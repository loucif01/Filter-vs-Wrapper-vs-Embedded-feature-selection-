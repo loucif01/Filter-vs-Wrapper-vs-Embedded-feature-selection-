{
 "cells": [
  {
   "cell_type": "code",
   "execution_count": 153,
   "metadata": {},
   "outputs": [
    {
     "name": "stdout",
     "output_type": "stream",
     "text": [
      "Dataset Lenght::  435\n",
      "Dataset Shape::  (435, 17)\n"
     ]
    }
   ],
   "source": [
    "import pandas as pd\n",
    "from sklearn.linear_model import LogisticRegression\n",
    "from sklearn.feature_selection import RFE\n",
    "from sklearn.model_selection import train_test_split\n",
    "from sklearn.metrics import accuracy_score\n",
    "import numpy \n",
    "from sklearn.feature_selection import SelectKBest\n",
    "from sklearn.feature_selection import chi2\n",
    "from sklearn.metrics import confusion_matrix\n",
    "from sklearn.ensemble import ExtraTreesClassifier\n",
    "from sklearn.feature_selection import SelectFromModel\n",
    "\n",
    "house_votes = pd.read_csv('house-votes-84.data',\n",
    "                           sep= ',', header= None,names=['ClassName','handicapped','water','adoption','physician','elsalvador','religious','satellite','nicaraguan','missile','immigration','synfuels','education','superfund','crime','dutyfree','export'])\n",
    "\n",
    "\n",
    "\n",
    "\n",
    "print (\"Dataset Lenght:: \", len(house_votes))\n",
    "print (\"Dataset Shape:: \", house_votes.shape)\n"
   ]
  },
  {
   "cell_type": "code",
   "execution_count": 154,
   "metadata": {},
   "outputs": [],
   "source": [
    "#remplacer les lettres et supprimer les valeurs oubliées\n",
    "d = {'n':0,'y':1}\n",
    "house_votes = house_votes.replace(d)\n",
    "\n",
    "\n",
    "for col in house_votes.columns:\n",
    "    house_votes=house_votes[house_votes[col]!='?']"
   ]
  },
  {
   "cell_type": "code",
   "execution_count": 155,
   "metadata": {},
   "outputs": [
    {
     "name": "stdout",
     "output_type": "stream",
     "text": [
      "Dataset Lenght::  232\n",
      "Dataset Shape::  (232, 17)\n",
      "<class 'pandas.core.frame.DataFrame'>\n",
      "Int64Index: 232 entries, 5 to 431\n",
      "Data columns (total 17 columns):\n",
      "ClassName      232 non-null object\n",
      "handicapped    232 non-null object\n",
      "water          232 non-null object\n",
      "adoption       232 non-null object\n",
      "physician      232 non-null object\n",
      "elsalvador     232 non-null object\n",
      "religious      232 non-null object\n",
      "satellite      232 non-null object\n",
      "nicaraguan     232 non-null object\n",
      "missile        232 non-null object\n",
      "immigration    232 non-null object\n",
      "synfuels       232 non-null object\n",
      "education      232 non-null object\n",
      "superfund      232 non-null object\n",
      "crime          232 non-null object\n",
      "dutyfree       232 non-null object\n",
      "export         232 non-null object\n",
      "dtypes: object(17)\n",
      "memory usage: 32.6+ KB\n"
     ]
    },
    {
     "data": {
      "text/html": [
       "<div>\n",
       "<style scoped>\n",
       "    .dataframe tbody tr th:only-of-type {\n",
       "        vertical-align: middle;\n",
       "    }\n",
       "\n",
       "    .dataframe tbody tr th {\n",
       "        vertical-align: top;\n",
       "    }\n",
       "\n",
       "    .dataframe thead th {\n",
       "        text-align: right;\n",
       "    }\n",
       "</style>\n",
       "<table border=\"1\" class=\"dataframe\">\n",
       "  <thead>\n",
       "    <tr style=\"text-align: right;\">\n",
       "      <th></th>\n",
       "      <th>ClassName</th>\n",
       "      <th>handicapped</th>\n",
       "      <th>water</th>\n",
       "      <th>adoption</th>\n",
       "      <th>physician</th>\n",
       "      <th>elsalvador</th>\n",
       "      <th>religious</th>\n",
       "      <th>satellite</th>\n",
       "      <th>nicaraguan</th>\n",
       "      <th>missile</th>\n",
       "      <th>immigration</th>\n",
       "      <th>synfuels</th>\n",
       "      <th>education</th>\n",
       "      <th>superfund</th>\n",
       "      <th>crime</th>\n",
       "      <th>dutyfree</th>\n",
       "      <th>export</th>\n",
       "    </tr>\n",
       "  </thead>\n",
       "  <tbody>\n",
       "    <tr>\n",
       "      <th>count</th>\n",
       "      <td>232</td>\n",
       "      <td>232</td>\n",
       "      <td>232</td>\n",
       "      <td>232</td>\n",
       "      <td>232</td>\n",
       "      <td>232</td>\n",
       "      <td>232</td>\n",
       "      <td>232</td>\n",
       "      <td>232</td>\n",
       "      <td>232</td>\n",
       "      <td>232</td>\n",
       "      <td>232</td>\n",
       "      <td>232</td>\n",
       "      <td>232</td>\n",
       "      <td>232</td>\n",
       "      <td>232</td>\n",
       "      <td>232</td>\n",
       "    </tr>\n",
       "    <tr>\n",
       "      <th>unique</th>\n",
       "      <td>2</td>\n",
       "      <td>2</td>\n",
       "      <td>2</td>\n",
       "      <td>2</td>\n",
       "      <td>2</td>\n",
       "      <td>2</td>\n",
       "      <td>2</td>\n",
       "      <td>2</td>\n",
       "      <td>2</td>\n",
       "      <td>2</td>\n",
       "      <td>2</td>\n",
       "      <td>2</td>\n",
       "      <td>2</td>\n",
       "      <td>2</td>\n",
       "      <td>2</td>\n",
       "      <td>2</td>\n",
       "      <td>2</td>\n",
       "    </tr>\n",
       "    <tr>\n",
       "      <th>top</th>\n",
       "      <td>democrat</td>\n",
       "      <td>0</td>\n",
       "      <td>0</td>\n",
       "      <td>1</td>\n",
       "      <td>0</td>\n",
       "      <td>1</td>\n",
       "      <td>1</td>\n",
       "      <td>1</td>\n",
       "      <td>1</td>\n",
       "      <td>0</td>\n",
       "      <td>1</td>\n",
       "      <td>0</td>\n",
       "      <td>0</td>\n",
       "      <td>1</td>\n",
       "      <td>1</td>\n",
       "      <td>0</td>\n",
       "      <td>1</td>\n",
       "    </tr>\n",
       "    <tr>\n",
       "      <th>freq</th>\n",
       "      <td>124</td>\n",
       "      <td>136</td>\n",
       "      <td>125</td>\n",
       "      <td>123</td>\n",
       "      <td>119</td>\n",
       "      <td>128</td>\n",
       "      <td>149</td>\n",
       "      <td>124</td>\n",
       "      <td>119</td>\n",
       "      <td>119</td>\n",
       "      <td>128</td>\n",
       "      <td>152</td>\n",
       "      <td>124</td>\n",
       "      <td>127</td>\n",
       "      <td>149</td>\n",
       "      <td>146</td>\n",
       "      <td>189</td>\n",
       "    </tr>\n",
       "  </tbody>\n",
       "</table>\n",
       "</div>"
      ],
      "text/plain": [
       "       ClassName  handicapped  water  adoption  physician  elsalvador  \\\n",
       "count        232          232    232       232        232         232   \n",
       "unique         2            2      2         2          2           2   \n",
       "top     democrat            0      0         1          0           1   \n",
       "freq         124          136    125       123        119         128   \n",
       "\n",
       "        religious  satellite  nicaraguan  missile  immigration  synfuels  \\\n",
       "count         232        232         232      232          232       232   \n",
       "unique          2          2           2        2            2         2   \n",
       "top             1          1           1        0            1         0   \n",
       "freq          149        124         119      119          128       152   \n",
       "\n",
       "        education  superfund  crime  dutyfree  export  \n",
       "count         232        232    232       232     232  \n",
       "unique          2          2      2         2       2  \n",
       "top             0          1      1         0       1  \n",
       "freq          124        127    149       146     189  "
      ]
     },
     "execution_count": 155,
     "metadata": {},
     "output_type": "execute_result"
    }
   ],
   "source": [
    "print (\"Dataset Lenght:: \", len(house_votes))\n",
    "print (\"Dataset Shape:: \", house_votes.shape)\n",
    "house_votes.head()\n",
    "house_votes.info()\n",
    "house_votes.describe()"
   ]
  },
  {
   "cell_type": "code",
   "execution_count": 156,
   "metadata": {},
   "outputs": [],
   "source": [
    "#1ere expérience : calculer la précision et le temps d'éxécution avec la méthode REF pour la séléction d'attributs\n",
    "\n",
    "#Dataset split\n",
    "array = house_votes.values\n",
    "X = array[:,1:16]\n",
    "y = array[:,0]\n",
    "\n",
    "X_train, X_test, y_train, y_test = train_test_split( X, y, test_size = 0.3)"
   ]
  },
  {
   "cell_type": "code",
   "execution_count": 157,
   "metadata": {},
   "outputs": [
    {
     "name": "stdout",
     "output_type": "stream",
     "text": [
      "Execution time with Recursive feature elimination REF is: 0.228878\n"
     ]
    },
    {
     "data": {
      "text/plain": [
       "array([[37,  0],\n",
       "       [ 2, 31]], dtype=int64)"
      ]
     },
     "execution_count": 157,
     "metadata": {},
     "output_type": "execute_result"
    }
   ],
   "source": [
    "lr = LogisticRegression(solver='lbfgs')\n",
    "rfe = RFE(lr,4)\n",
    "import time\n",
    "start = time.time() \n",
    "fit=rfe.fit(X_train,y_train)\n",
    "end = time.time()\n",
    "print(\"Execution time with Recursive feature elimination REF is: %f\"%(float(end)- float(start)))\n",
    "y_pred = fit.predict(X_test)\n",
    "confusion_matrix(y_test,y_pred)\n"
   ]
  },
  {
   "cell_type": "code",
   "execution_count": 158,
   "metadata": {},
   "outputs": [
    {
     "name": "stdout",
     "output_type": "stream",
     "text": [
      "Num Features:  4\n",
      "Selected Features: [False False  True  True False False False False False False  True False\n",
      " False  True False]\n",
      "Feature Ranking:  [11  8  1  1  5  6  9 10  4  3  1  2 12  1  7]\n",
      "Accuracy with Recursive feature elimination is  97.14285714285714\n"
     ]
    }
   ],
   "source": [
    "print(\"Num Features: \",fit.n_features_)\n",
    "print(\"Selected Features:\",fit.support_)\n",
    "print(\"Feature Ranking: \", fit.ranking_)\n",
    "print (\"Accuracy with Recursive feature elimination is \", accuracy_score(y_test,y_pred)*100)"
   ]
  },
  {
   "cell_type": "code",
   "execution_count": 174,
   "metadata": {},
   "outputs": [
    {
     "name": "stdout",
     "output_type": "stream",
     "text": [
      "[1.970e+01 5.316e-02 5.296e+01 1.052e+02 5.918e+01 1.637e+01 2.674e+01\n",
      " 5.242e+01 5.029e+01 1.829e-01 2.058e+01 6.479e+01 3.216e+01 3.621e+01\n",
      " 3.673e+01]\n",
      "Execution time with chi-square test is: 0.015992\n"
     ]
    },
    {
     "data": {
      "text/plain": [
       "array([[30,  2],\n",
       "       [ 1, 37]], dtype=int64)"
      ]
     },
     "execution_count": 174,
     "metadata": {},
     "output_type": "execute_result"
    }
   ],
   "source": [
    "#2ème expérience : calculer la précision avec la méthode chi-square test pour la séléction d'attributs\n",
    "# feature extraction\n",
    "fit2= SelectKBest(chi2, k=4).fit(X, y)\n",
    "numpy.set_printoptions(precision=3)\n",
    "print(fit2.scores_)\n",
    "\n",
    "X_trans=fit2.transform(X)\n",
    "X_train_trans, X_test_trans, y_train_trans, y_test_trans = train_test_split(X_trans,y, test_size=0.3)\n",
    "\n",
    "\n",
    "start = time.time() \n",
    "lr.fit(X_train_trans,y_train_trans)\n",
    "end = time.time()\n",
    "print(\"Execution time with chi-square test is: %f\"%(float(end)- float(start)))\n",
    "\n",
    "y_pred = lr.predict(X_test_trans)\n",
    "confusion_matrix(y_test_trans,y_pred)\n",
    "\n"
   ]
  },
  {
   "cell_type": "code",
   "execution_count": 175,
   "metadata": {},
   "outputs": [
    {
     "name": "stdout",
     "output_type": "stream",
     "text": [
      "Accuracy with chi-square test is  95.71428571428572\n"
     ]
    }
   ],
   "source": [
    "print (\"Accuracy with chi-square test is \", accuracy_score(y_test_trans,y_pred)*100)"
   ]
  },
  {
   "cell_type": "code",
   "execution_count": 180,
   "metadata": {},
   "outputs": [
    {
     "name": "stdout",
     "output_type": "stream",
     "text": [
      "[0.011 0.02  0.038 0.367 0.128 0.007 0.036 0.062 0.016 0.013 0.053 0.096\n",
      " 0.016 0.098 0.038]\n",
      "Execution time with decision tree is: 0.015988\n",
      "Shape of the dataset  (162, 11)\n",
      "Accuracy with tree based feature selection is  97.14285714285714\n"
     ]
    },
    {
     "name": "stderr",
     "output_type": "stream",
     "text": [
      "C:\\Users\\user\\Anaconda3\\lib\\site-packages\\sklearn\\ensemble\\forest.py:246: FutureWarning: The default value of n_estimators will change from 10 in version 0.20 to 100 in 0.22.\n",
      "  \"10 in version 0.20 to 100 in 0.22.\", FutureWarning)\n"
     ]
    }
   ],
   "source": [
    "#3ème expérience : calculer la précision et le temps d'éxécution avec la méthode decision tree pour la séléction d'attributs\n",
    "et = ExtraTreesClassifier()\n",
    "et.fit(X, y)\n",
    "print(et.feature_importances_)\n",
    "\n",
    "sfm = SelectFromModel(et, threshold=0.01)\n",
    "fit3=sfm.fit(X,y)\n",
    "\n",
    "X_trans=fit3.transform(X)\n",
    "X_train_trans, X_test_trans, y_train_trans, y_test_trans = train_test_split(X_trans,y, test_size=0.3)\n",
    "\n",
    "start = time.time() \n",
    "lr.fit(X_train_trans, y_train_trans)\n",
    "end = time.time()\n",
    "print(\"Execution time with decision tree is: %f\"%(float(end)- float(start)))\n",
    "print(\"Shape of the dataset \",shape)\n",
    "\n",
    "\n",
    "pre = lr.predict(X_test_trans)\n",
    "print (\"Accuracy with tree based feature selection is \", accuracy_score(y_test_trans,pre)*100)"
   ]
  },
  {
   "cell_type": "code",
   "execution_count": 187,
   "metadata": {},
   "outputs": [
    {
     "name": "stdout",
     "output_type": "stream",
     "text": [
      "Execution time without any feature selection is: 0.033982\n"
     ]
    },
    {
     "data": {
      "text/plain": [
       "array([[36,  3],\n",
       "       [ 0, 31]], dtype=int64)"
      ]
     },
     "execution_count": 187,
     "metadata": {},
     "output_type": "execute_result"
    }
   ],
   "source": [
    "#4eme expérience : calculer la précision et le temps d'éxécution sans la séléction d'attributs\n",
    "X_train, X_test, y_train, y_test = train_test_split( X, y, test_size = 0.3)\n",
    "\n",
    "start = time.time() \n",
    "fit=lr.fit(X_train,y_train)\n",
    "end = time.time()\n",
    "print(\"Execution time without any feature selection is: %f\"%(float(end)- float(start)))\n",
    "y_pred = fit.predict(X_test)\n",
    "confusion_matrix(y_test,y_pred)"
   ]
  },
  {
   "cell_type": "code",
   "execution_count": 188,
   "metadata": {},
   "outputs": [
    {
     "name": "stdout",
     "output_type": "stream",
     "text": [
      "Accuracy without any feature selection is  95.71428571428572\n"
     ]
    }
   ],
   "source": [
    "print (\"Accuracy without any feature selection is \", accuracy_score(y_test,y_pred)*100)"
   ]
  },
  {
   "cell_type": "code",
   "execution_count": null,
   "metadata": {},
   "outputs": [],
   "source": []
  }
 ],
 "metadata": {
  "kernelspec": {
   "display_name": "Python 3",
   "language": "python",
   "name": "python3"
  },
  "language_info": {
   "codemirror_mode": {
    "name": "ipython",
    "version": 3
   },
   "file_extension": ".py",
   "mimetype": "text/x-python",
   "name": "python",
   "nbconvert_exporter": "python",
   "pygments_lexer": "ipython3",
   "version": "3.7.3"
  }
 },
 "nbformat": 4,
 "nbformat_minor": 2
}
